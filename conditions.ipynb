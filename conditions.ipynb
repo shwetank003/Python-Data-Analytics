{
 "cells": [
  {
   "cell_type": "code",
   "execution_count": 12,
   "metadata": {},
   "outputs": [
    {
     "name": "stdout",
     "output_type": "stream",
     "text": [
      "A+\n",
      "A\n",
      "B\n"
     ]
    }
   ],
   "source": [
    "marks = int(input(\"Enter a number:\"))\n",
    "if marks >= 90:\n",
    "    print(\"A+\")\n",
    "if marks >= 80:\n",
    "    print(\"A\")\n",
    "if marks >= 70:\n",
    "    print(\"B\")\n",
    "if marks < 60:\n",
    "    print(\"Fail\")"
   ]
  },
  {
   "cell_type": "code",
   "execution_count": 14,
   "metadata": {},
   "outputs": [
    {
     "name": "stdout",
     "output_type": "stream",
     "text": [
      "Fail\n"
     ]
    }
   ],
   "source": [
    "marks = int(input(\"Enter a number:\"))\n",
    "if marks >= 90:\n",
    "    print(\"A+\")\n",
    "elif marks >= 80:\n",
    "    print(\"A\")\n",
    "elif marks >= 70:\n",
    "    print(\"B\")\n",
    "elif marks < 60:\n",
    "    print(\"Fail\")\n",
    "else:\n",
    "    print(\"Invalid input\")"
   ]
  },
  {
   "cell_type": "code",
   "execution_count": 16,
   "metadata": {},
   "outputs": [
    {
     "name": "stdout",
     "output_type": "stream",
     "text": [
      "You are eligible to vote\n"
     ]
    }
   ],
   "source": [
    "age = 20\n",
    "if age >= 18:\n",
    "    print(\"You are eligible to vote\")\n",
    "else:\n",
    "    print(\"You are not eligible to vote\")"
   ]
  },
  {
   "cell_type": "code",
   "execution_count": 2,
   "metadata": {},
   "outputs": [
    {
     "name": "stdout",
     "output_type": "stream",
     "text": [
      "VOWEL\n"
     ]
    }
   ],
   "source": [
    "char = input(\"Enter a character\")\n",
    "if char in \"aeiou\":\n",
    "      print(\"VOWEL\")\n",
    "else:\n",
    "    print(\"CONSONANT\")\n"
   ]
  },
  {
   "cell_type": "code",
   "execution_count": 6,
   "metadata": {},
   "outputs": [
    {
     "name": "stdout",
     "output_type": "stream",
     "text": [
      "not positive\n"
     ]
    }
   ],
   "source": [
    "#to check whether a number is positive or not\n",
    "n = int(input('Enter a number:'))\n",
    "if n >= 0:\n",
    "    print('positive') \n",
    "else: \n",
    "    print('not positive')"
   ]
  },
  {
   "cell_type": "code",
   "execution_count": 4,
   "metadata": {},
   "outputs": [
    {
     "name": "stdout",
     "output_type": "stream",
     "text": [
      "odd\n"
     ]
    }
   ],
   "source": [
    "# to check whether a number is even or odd\n",
    "n = int(input('Enter a number:'))\n",
    "if n%2 == 0:\n",
    "    print('even')\n",
    "else:\n",
    "    print('odd')"
   ]
  },
  {
   "cell_type": "code",
   "execution_count": 8,
   "metadata": {},
   "outputs": [
    {
     "name": "stdout",
     "output_type": "stream",
     "text": [
      "sides are not equal\n"
     ]
    }
   ],
   "source": [
    "# to check whether two sides of a rectange is equal or not\n",
    "a = input('Enter a side:')\n",
    "b = input('Enter another side')\n",
    "if a==b:\n",
    "    print('sides are equal')\n",
    "else:\n",
    "    print('sides are not equal')"
   ]
  },
  {
   "cell_type": "code",
   "execution_count": 26,
   "metadata": {},
   "outputs": [
    {
     "name": "stdout",
     "output_type": "stream",
     "text": [
      "obscelete\n"
     ]
    }
   ],
   "source": [
    "# to check whether a triange is an equilateral, isosceles or obsolete triange\n",
    "a = int(input('Enter side a:'))\n",
    "b = int(input('Enter side b:'))\n",
    "c = int(input('Enter side c:'))\n",
    "if a==b and a==c and b==c:\n",
    "    print('equilateral')\n",
    "elif a==b or a==c and b!=c:\n",
    "    print('isosceles')\n",
    "else:\n",
    "    print('obscelete')\n",
    "\n"
   ]
  },
  {
   "cell_type": "code",
   "execution_count": 2,
   "metadata": {},
   "outputs": [
    {
     "name": "stdout",
     "output_type": "stream",
     "text": [
      "no leap year\n"
     ]
    }
   ],
   "source": [
    "# to check whether a year is leap year or not\n",
    "Year = int(input('Enter year'))\n",
    "if Year%4==0 or Year%400==0:\n",
    "    print('leap year')\n",
    "else:\n",
    "    print('no leap year')"
   ]
  },
  {
   "cell_type": "code",
   "execution_count": 12,
   "metadata": {},
   "outputs": [
    {
     "name": "stdout",
     "output_type": "stream",
     "text": [
      "57500.0\n"
     ]
    }
   ],
   "source": [
    "# calc12ulate the net salary of an employee where basic salary(bs) is 50000, TDS is 10% of the bs and hra is 5% of bs. Print the message accordingly.\n",
    "Basic_salary = 50000\n",
    "TDA = Basic_salary*0.05\n",
    "HRA = Basic_salary*0.10\n",
    "\n",
    "Net_salary = Basic_salary+TDA+HRA\n",
    "print(Net_salary)"
   ]
  },
  {
   "cell_type": "code",
   "execution_count": null,
   "metadata": {},
   "outputs": [],
   "source": [
    "# Calculate an area of a circle"
   ]
  }
 ],
 "metadata": {
  "interpreter": {
   "hash": "f078e8e0328d498e9489b389f56c299d76b4345dcbd2991da58a939b9c386e81"
  },
  "kernelspec": {
   "display_name": "Python 3.12.3 ('base')",
   "language": "python",
   "name": "python3"
  },
  "language_info": {
   "codemirror_mode": {
    "name": "ipython",
    "version": 3
   },
   "file_extension": ".py",
   "mimetype": "text/x-python",
   "name": "python",
   "nbconvert_exporter": "python",
   "pygments_lexer": "ipython3",
   "version": "3.12.3"
  },
  "orig_nbformat": 4
 },
 "nbformat": 4,
 "nbformat_minor": 2
}
