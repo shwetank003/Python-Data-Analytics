{
 "cells": [
  {
   "cell_type": "markdown",
   "metadata": {},
   "source": [
    "TYPES\n",
    "- Parameterized\n",
    "- Non-Parameterized\n",
    "- Return\n",
    "- Non Return\n",
    "- Default parameter"
   ]
  },
  {
   "cell_type": "code",
   "execution_count": 21,
   "metadata": {},
   "outputs": [],
   "source": [
    "#non parameterized\n",
    "def my_func(): \n",
    "    print(\"Hello from my_func\")\n",
    "    print(\"This is a function\")\n",
    "    print(\"Good bye!\")"
   ]
  },
  {
   "cell_type": "code",
   "execution_count": 22,
   "metadata": {},
   "outputs": [
    {
     "name": "stdout",
     "output_type": "stream",
     "text": [
      "Hello from my_func\n",
      "This is a function\n",
      "Good bye!\n"
     ]
    }
   ],
   "source": [
    "my_func()"
   ]
  },
  {
   "cell_type": "code",
   "execution_count": 23,
   "metadata": {},
   "outputs": [
    {
     "name": "stdout",
     "output_type": "stream",
     "text": [
      "Hello Shwetank\n",
      "Goodbye Shwetank\n"
     ]
    }
   ],
   "source": [
    "# parameterized\n",
    "def name(name):\n",
    "    print(\"Hello\", name)\n",
    "    print(\"Goodbye\", name)\n",
    "name(\"Shwetank\")"
   ]
  },
  {
   "cell_type": "code",
   "execution_count": 24,
   "metadata": {},
   "outputs": [
    {
     "name": "stdout",
     "output_type": "stream",
     "text": [
      "15.0\n"
     ]
    }
   ],
   "source": [
    "def cal_avg(a,b,c):\n",
    "    sum = a+b+c\n",
    "    print(sum/3)\n",
    "cal_avg(12,15,18)\n"
   ]
  },
  {
   "cell_type": "code",
   "execution_count": 50,
   "metadata": {},
   "outputs": [
    {
     "name": "stdout",
     "output_type": "stream",
     "text": [
      "20.0\n"
     ]
    }
   ],
   "source": [
    "def average(a,b,c):\n",
    "    print((a+b+c)/3)\n",
    "average(10,20,30)"
   ]
  },
  {
   "cell_type": "code",
   "execution_count": 26,
   "metadata": {},
   "outputs": [
    {
     "name": "stdout",
     "output_type": "stream",
     "text": [
      "40.0\n"
     ]
    }
   ],
   "source": [
    "average(10,20,30)"
   ]
  },
  {
   "cell_type": "code",
   "execution_count": 28,
   "metadata": {},
   "outputs": [
    {
     "name": "stdout",
     "output_type": "stream",
     "text": [
      "25\n"
     ]
    }
   ],
   "source": [
    "#return\n",
    "def func(x):\n",
    "    return 5*x\n",
    "a = func(5)\n",
    "print(a)"
   ]
  },
  {
   "cell_type": "code",
   "execution_count": 31,
   "metadata": {},
   "outputs": [
    {
     "name": "stdout",
     "output_type": "stream",
     "text": [
      "None\n"
     ]
    }
   ],
   "source": [
    "#non return\n",
    "def func(x):\n",
    "    5*x\n",
    "a = func(5)\n",
    "print(a) "
   ]
  },
  {
   "cell_type": "code",
   "execution_count": 36,
   "metadata": {},
   "outputs": [
    {
     "name": "stdout",
     "output_type": "stream",
     "text": [
      "i am from USA\n",
      "i am from UK\n",
      "i am from India\n",
      "i am from Canada\n"
     ]
    }
   ],
   "source": [
    "#default parameterized function\n",
    "def my_country(country = \"India\"):\n",
    "    print(\"i am from\", country)\n",
    "my_country(\"USA\")\n",
    "my_country(\"UK\")\n",
    "my_country()\n",
    "my_country(\"Canada\")"
   ]
  },
  {
   "cell_type": "code",
   "execution_count": 37,
   "metadata": {},
   "outputs": [
    {
     "name": "stdout",
     "output_type": "stream",
     "text": [
      "apple\n",
      "banana\n",
      "cheery\n",
      "mango\n"
     ]
    }
   ],
   "source": [
    "def fruits(fruit):\n",
    "    for x in fruit:\n",
    "        print(x)\n",
    "fruits([\"apple\",\"banana\",\"cheery\",\"mango\"])"
   ]
  },
  {
   "cell_type": "code",
   "execution_count": 40,
   "metadata": {},
   "outputs": [
    {
     "name": "stdout",
     "output_type": "stream",
     "text": [
      "even\n"
     ]
    }
   ],
   "source": [
    "#function for even or odd number\n",
    "def even_odd(x):\n",
    "    if x%2 == 0:\n",
    "        print(\"even\")\n",
    "    else:\n",
    "        print(\"odd\")\n",
    "even_odd(10)"
   ]
  },
  {
   "cell_type": "code",
   "execution_count": 41,
   "metadata": {},
   "outputs": [],
   "source": [
    "#lambda function for even odd numbers\n",
    "even_odd = lambda x: \"Even\" if x%2 == 0 else \"odd\"\n",
    "\n"
   ]
  },
  {
   "cell_type": "code",
   "execution_count": 42,
   "metadata": {},
   "outputs": [
    {
     "name": "stdout",
     "output_type": "stream",
     "text": [
      "True\n"
     ]
    }
   ],
   "source": [
    "even = lambda a: a % 2== 0\n",
    "print(even(2))"
   ]
  },
  {
   "cell_type": "markdown",
   "metadata": {},
   "source": [
    "- check a number is prime or not\n",
    "- convert temperture celcius to fehrenheit\n",
    "- find maximum of three numbers\n",
    "- calculate factorial\n",
    "- reverse of a string\n",
    "- count vowels in a string\n",
    "- calculate BMI(Body Mass Index)"
   ]
  },
  {
   "cell_type": "code",
   "execution_count": 10,
   "metadata": {},
   "outputs": [
    {
     "name": "stdout",
     "output_type": "stream",
     "text": [
      "7 is prime number\n"
     ]
    }
   ],
   "source": [
    "# check a number is prime or not\n",
    "def check_prime(any):\n",
    "    num = int(input(\"Enter a number:\"))\n",
    "    count = 0\n",
    "    for i in range(1,num+1):\n",
    "        if num % i == 0:\n",
    "            count = count + 1\n",
    "    if count == 2:\n",
    "        print(num,\"is prime number\")\n",
    "    else:\n",
    "        print(num,\"is not a prime number\")\n",
    "        \n",
    "check_prime(any)\n",
    "        "
   ]
  },
  {
   "cell_type": "code",
   "execution_count": 9,
   "metadata": {},
   "outputs": [
    {
     "name": "stdout",
     "output_type": "stream",
     "text": [
      "Temperature is:{0} 46.4\n"
     ]
    }
   ],
   "source": [
    "# convert temperature celcius to fehrenheit\n",
    "def convert_temp(any):\n",
    "    celsius = float(input(\"Enter a temperature: \"))\n",
    "    fahrenheit = (celsius * 9/5)+32\n",
    "    print(\"Temperature is:{0}\",fahrenheit)\n",
    "convert_temp(any)"
   ]
  },
  {
   "cell_type": "code",
   "execution_count": 13,
   "metadata": {},
   "outputs": [
    {
     "name": "stdout",
     "output_type": "stream",
     "text": [
      "b is max\n"
     ]
    }
   ],
   "source": [
    "# find maximum of three numbers\n",
    "def max_num(a,b,c):\n",
    "    if a>b and a>c:\n",
    "        print('a is max')\n",
    "    elif b>a and b>c:\n",
    "        print('b is max')\n",
    "    else:\n",
    "        print('c is max')\n",
    "max_num(5,8,4)"
   ]
  },
  {
   "cell_type": "code",
   "execution_count": 14,
   "metadata": {},
   "outputs": [
    {
     "name": "stdout",
     "output_type": "stream",
     "text": [
      "720\n"
     ]
    }
   ],
   "source": [
    "# calculate factorial\n",
    "def cal_fact(n):\n",
    "    fact = 1\n",
    "    for i in range(1, n+1):\n",
    "        fact *= i\n",
    "    print(fact)\n",
    "\n",
    "cal_fact(6)"
   ]
  },
  {
   "cell_type": "code",
   "execution_count": 47,
   "metadata": {},
   "outputs": [],
   "source": [
    "# reverse of string\n"
   ]
  },
  {
   "cell_type": "code",
   "execution_count": 16,
   "metadata": {},
   "outputs": [
    {
     "name": "stdout",
     "output_type": "stream",
     "text": [
      "Total vowel in  Shwetank is 0\n",
      "Total vowel in  Shwetank is 0\n",
      "Total vowel in  Shwetank is 0\n",
      "Total vowel in  Shwetank is 1\n",
      "Total vowel in  Shwetank is 1\n",
      "Total vowel in  Shwetank is 2\n",
      "Total vowel in  Shwetank is 2\n",
      "Total vowel in  Shwetank is 2\n"
     ]
    }
   ],
   "source": [
    "# count vowels in a string\n",
    "s = str(input(\"Enter any string:\"))\n",
    "def count_vow(s):\n",
    "    v = 0\n",
    "    for char in s:\n",
    "       if  char in \"aeiouAEIOU\": \n",
    "           v = v + 1\n",
    "       print(\"Total vowel in \",s,\"is\",v)\n",
    "count_vow(s)"
   ]
  },
  {
   "cell_type": "code",
   "execution_count": 22,
   "metadata": {},
   "outputs": [
    {
     "name": "stdout",
     "output_type": "stream",
     "text": [
      "Your BMI is: {0} 0.9375\n"
     ]
    }
   ],
   "source": [
    "#calculate BMI (Body Mass Index)\n",
    "def count_bmi(any):\n",
    "    height = float(input(\"Enter height in meters : \"))\n",
    "    weight = float(input(\"Enter weight in kg: \"))\n",
    "\n",
    "    bmi = weight / (height**2)\n",
    "    print(\"Your BMI is: {0}\",(bmi))\n",
    "count_bmi(any)"
   ]
  },
  {
   "cell_type": "code",
   "execution_count": null,
   "metadata": {},
   "outputs": [],
   "source": []
  }
 ],
 "metadata": {
  "kernelspec": {
   "display_name": "base",
   "language": "python",
   "name": "python3"
  },
  "language_info": {
   "codemirror_mode": {
    "name": "ipython",
    "version": 3
   },
   "file_extension": ".py",
   "mimetype": "text/x-python",
   "name": "python",
   "nbconvert_exporter": "python",
   "pygments_lexer": "ipython3",
   "version": "3.12.3"
  }
 },
 "nbformat": 4,
 "nbformat_minor": 2
}
