{
 "cells": [
  {
   "cell_type": "markdown",
   "metadata": {},
   "source": [
    "- import math"
   ]
  },
  {
   "cell_type": "code",
   "execution_count": 10,
   "metadata": {},
   "outputs": [
    {
     "name": "stdout",
     "output_type": "stream",
     "text": [
      "25.0\n",
      "125.0\n",
      "-0.4480736161291701\n",
      "1.0\n",
      "-0.3048106211022167\n",
      "5729.5779513082325\n",
      "2.080083823051904\n",
      "3.141592653589793\n",
      "4\n",
      "24\n"
     ]
    }
   ],
   "source": [
    "import math\n",
    "print(math.sqrt(625))\n",
    "print(math.pow(5,3))\n",
    "print(math.cos(90))\n",
    "print(math.log10(10))\n",
    "print(math.sin(60))\n",
    "print(math.degrees(100))\n",
    "print(math.cbrt(9))\n",
    "print(math.pi)\n",
    "print(math.gcd(8,12))\n",
    "print(math.lcm(8,12))\n"
   ]
  },
  {
   "cell_type": "code",
   "execution_count": 11,
   "metadata": {},
   "outputs": [
    {
     "name": "stdout",
     "output_type": "stream",
     "text": [
      "get a random number between 0 and 1: 0.26350551684119716\n"
     ]
    }
   ],
   "source": [
    "from random import random, randint, choice, shuffle\n",
    "print('get a random number between 0 and 1:', random())"
   ]
  },
  {
   "cell_type": "code",
   "execution_count": 12,
   "metadata": {},
   "outputs": [
    {
     "name": "stdout",
     "output_type": "stream",
     "text": [
      "get a randint number between 0 and 100: 69\n"
     ]
    }
   ],
   "source": [
    "print('get a randint number between 0 and 100:', randint(0,100))"
   ]
  },
  {
   "cell_type": "code",
   "execution_count": 13,
   "metadata": {},
   "outputs": [
    {
     "name": "stdout",
     "output_type": "stream",
     "text": [
      "get a random element from the list: 1\n"
     ]
    }
   ],
   "source": [
    "print('get a random element from the list:', choice([1,2,3,4,5]))"
   ]
  },
  {
   "cell_type": "code",
   "execution_count": 14,
   "metadata": {},
   "outputs": [
    {
     "name": "stdout",
     "output_type": "stream",
     "text": [
      "shuffle a list: ['Alice', 'Bob', 'Shwetank', 'Akshay', 'Sameer']\n"
     ]
    }
   ],
   "source": [
    "names = ['Alice', 'Bob', 'Shwetank', 'Sameer', 'Akshay']\n",
    "shuffle(names)\n",
    "print('shuffle a list:',names)"
   ]
  },
  {
   "cell_type": "code",
   "execution_count": 15,
   "metadata": {},
   "outputs": [
    {
     "name": "stdout",
     "output_type": "stream",
     "text": [
      "current date and time: 2025-02-07 16:23:15.498033\n"
     ]
    }
   ],
   "source": [
    "from datetime import datetime as dt\n",
    "print(\"current date and time:\",dt.now())"
   ]
  },
  {
   "cell_type": "code",
   "execution_count": 16,
   "metadata": {},
   "outputs": [
    {
     "name": "stdout",
     "output_type": "stream",
     "text": [
      "current year: 2025\n",
      "current month: 2\n",
      "current day: 7\n",
      "current hour: 16\n",
      "current minute: 23\n",
      "current second: 15\n"
     ]
    }
   ],
   "source": [
    "print(\"current year:\", dt.now().year)\n",
    "print(\"current month:\", dt.now().month)\n",
    "print(\"current day:\", dt.now().day)\n",
    "print(\"current hour:\", dt.now().hour)\n",
    "print(\"current minute:\", dt.now().minute)\n",
    "print(\"current second:\", dt.now().second)"
   ]
  },
  {
   "cell_type": "code",
   "execution_count": 17,
   "metadata": {},
   "outputs": [],
   "source": [
    "import os"
   ]
  },
  {
   "cell_type": "code",
   "execution_count": 20,
   "metadata": {},
   "outputs": [
    {
     "name": "stdout",
     "output_type": "stream",
     "text": [
      "Current working directory: c:\\Users\\TOSHIBA\\Desktop\\shwe.ipynb\\data structure\n"
     ]
    }
   ],
   "source": [
    "print('Current working directory:',os.getcwd())"
   ]
  },
  {
   "cell_type": "code",
   "execution_count": 22,
   "metadata": {},
   "outputs": [
    {
     "name": "stdout",
     "output_type": "stream",
     "text": [
      "2 files found\n"
     ]
    }
   ],
   "source": [
    "files = os.listdir()\n",
    "files = ('files in the current directory:', files)\n",
    "print(len(files), 'files found')"
   ]
  },
  {
   "cell_type": "code",
   "execution_count": 23,
   "metadata": {},
   "outputs": [
    {
     "name": "stdout",
     "output_type": "stream",
     "text": [
      "files in the directory: ['desktop.ini', 'Microsoft Office 2021 Pro Plus [16.0.14332.20255] [x64] [VL] [LTSC] with Activator', 'Microsoft Teams.lnk', 'photo_2025-02-01_15-53-35.jpg', 'photo_2025-02-01_16-11-04.jpg', 'photo_2025-02-01_16-11-13.jpg', 'Power BI Desktop.lnk', 'shwe.ipynb', 'Telegram.lnk']\n"
     ]
    }
   ],
   "source": [
    "files = os.listdir(r\"C:\\Users\\TOSHIBA\\Desktop\")\n",
    "print('files in the directory:',files)"
   ]
  },
  {
   "cell_type": "code",
   "execution_count": 28,
   "metadata": {},
   "outputs": [
    {
     "name": "stdout",
     "output_type": "stream",
     "text": [
      "=> C:\n",
      "folders: []\n",
      "files: ['dictionary.ipynb', 'function.ipynb', 'library.ipynb', 'list.ipynb', 'sets.ipynb', 'sting.ipynb']\n",
      "total files found: 6\n"
     ]
    }
   ],
   "source": [
    "total_files = 0\n",
    "for path,folders, files in os.walk(\"C:\"):\n",
    "    print('=>', path)\n",
    "    print('folders:', folders)\n",
    "    print('files:', files)\n",
    "    total_files +=len(files)\n",
    "print('total files found:', total_files)\n"
   ]
  },
  {
   "cell_type": "code",
   "execution_count": 32,
   "metadata": {},
   "outputs": [
    {
     "name": "stdout",
     "output_type": "stream",
     "text": [
      "C:\\Users\\TOSHIBA\\Desktop\\shwe.ipynb exists\n"
     ]
    }
   ],
   "source": [
    "file = r\"C:\\Users\\TOSHIBA\\Desktop\\shwe.ipynb\"\n",
    "if os.path.exists(file):\n",
    "    print(file, 'exists')\n",
    "else:\n",
    "    print(file, 'Does not exists')\n"
   ]
  },
  {
   "cell_type": "code",
   "execution_count": 33,
   "metadata": {},
   "outputs": [
    {
     "name": "stdout",
     "output_type": "stream",
     "text": [
      "folder exist\n",
      "foldersize: 4096 bytes\n",
      "folders size in KB: 4.0 KB\n",
      "folders size in MB: 0.00390625 MB\n",
      "folders size in GB: 3.814697265625e-06 GB\n"
     ]
    }
   ],
   "source": [
    "files = r\"C:\\Users\\TOSHIBA\\Desktop\\shwe.ipynb\"\n",
    "if os.path.exists(files):\n",
    "    print(\"folder exist\")\n",
    "    size = os.path.getsize(files)\n",
    "    print('foldersize:', size, 'bytes')\n",
    "    print('folders size in KB:', size /1024, 'KB')\n",
    "    print('folders size in MB:', size /1024 /1024, 'MB')\n",
    "    print('folders size in GB:', size /1024 /1024 /1024, 'GB') "
   ]
  },
  {
   "cell_type": "code",
   "execution_count": null,
   "metadata": {},
   "outputs": [],
   "source": []
  }
 ],
 "metadata": {
  "kernelspec": {
   "display_name": "base",
   "language": "python",
   "name": "python3"
  },
  "language_info": {
   "codemirror_mode": {
    "name": "ipython",
    "version": 3
   },
   "file_extension": ".py",
   "mimetype": "text/x-python",
   "name": "python",
   "nbconvert_exporter": "python",
   "pygments_lexer": "ipython3",
   "version": "3.12.3"
  }
 },
 "nbformat": 4,
 "nbformat_minor": 2
}
