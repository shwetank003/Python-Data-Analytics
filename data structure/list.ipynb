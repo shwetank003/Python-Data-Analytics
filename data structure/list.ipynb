{
 "cells": [
  {
   "cell_type": "code",
   "execution_count": 28,
   "metadata": {},
   "outputs": [
    {
     "name": "stdout",
     "output_type": "stream",
     "text": [
      "['bgmi', 'instagram', 'camara', 'youtube', 'pogo', 'phonepay', 'slice', 'ludo', 'hotstar', ' chrome', 'candycrush', 'setting', 'Zepto']\n"
     ]
    }
   ],
   "source": [
    "apps = ['bgmi', 'instagram', 'camara', 'youtube', 'pogo', 'phonepay', 'slice', 'ludo', 'hotstar', ' chrome', 'candycrush', 'setting','Zepto']\n",
    "print(apps)"
   ]
  },
  {
   "cell_type": "code",
   "execution_count": 29,
   "metadata": {},
   "outputs": [
    {
     "name": "stdout",
     "output_type": "stream",
     "text": [
      "10\n"
     ]
    }
   ],
   "source": [
    "a = [2,4,6,8,10,12,14]\n",
    "print(a[4])"
   ]
  },
  {
   "cell_type": "code",
   "execution_count": 30,
   "metadata": {},
   "outputs": [
    {
     "name": "stdout",
     "output_type": "stream",
     "text": [
      "8\n"
     ]
    }
   ],
   "source": [
    "a = [2,4,6,8,10,12,14]\n",
    "print(a[-4])"
   ]
  },
  {
   "cell_type": "code",
   "execution_count": 31,
   "metadata": {},
   "outputs": [
    {
     "name": "stdout",
     "output_type": "stream",
     "text": [
      "8\n"
     ]
    }
   ],
   "source": [
    "a = [2,4,6,8,10,12,14]\n",
    "print(a[-4])"
   ]
  },
  {
   "cell_type": "code",
   "execution_count": 32,
   "metadata": {},
   "outputs": [
    {
     "name": "stdout",
     "output_type": "stream",
     "text": [
      "slice\n"
     ]
    }
   ],
   "source": [
    "apps = ['bgmi', 'instagram', 'camara', 'youtube', 'pogo', 'phonepay', 'slice', 'ludo', 'hotstar', ' chrome', 'candycrush', 'setting']\n",
    "print(apps[-6])"
   ]
  },
  {
   "cell_type": "code",
   "execution_count": 33,
   "metadata": {},
   "outputs": [
    {
     "name": "stdout",
     "output_type": "stream",
     "text": [
      "['bgmi', 'instagram', 'camara', 'youtube', 'pogo', 'phonepay', 'slice', 'ludo', 'hotstar', 'chrome', 'candycrush', 'setting', 'Zepto']."
     ]
    }
   ],
   "source": [
    "apps = ['bgmi', 'instagram', 'camara', 'youtube', 'pogo', 'phonepay', 'slice', 'ludo', 'hotstar', 'chrome', 'candycrush', 'setting','Zepto']\n",
    "print(apps, end='.')"
   ]
  },
  {
   "cell_type": "markdown",
   "metadata": {},
   "source": [
    "- Indexing"
   ]
  },
  {
   "cell_type": "code",
   "execution_count": 34,
   "metadata": {},
   "outputs": [
    {
     "name": "stdout",
     "output_type": "stream",
     "text": [
      "phonepay\n"
     ]
    }
   ],
   "source": [
    "print(apps[5])"
   ]
  },
  {
   "cell_type": "markdown",
   "metadata": {},
   "source": [
    "- Slicing"
   ]
  },
  {
   "cell_type": "code",
   "execution_count": 35,
   "metadata": {},
   "outputs": [
    {
     "name": "stdout",
     "output_type": "stream",
     "text": [
      "['camara', 'youtube', 'pogo']\n",
      "['instagram', 'youtube', 'phonepay', 'ludo', 'chrome']\n",
      "['pogo', 'phonepay', 'slice', 'ludo', 'hotstar', 'chrome', 'candycrush', 'setting', 'Zepto']\n",
      "['bgmi', 'instagram', 'camara', 'youtube', 'pogo', 'phonepay', 'slice', 'ludo', 'hotstar']\n",
      "['bgmi', 'instagram', 'camara', 'youtube', 'pogo', 'phonepay', 'slice', 'ludo', 'hotstar', 'chrome', 'candycrush', 'setting', 'Zepto']\n"
     ]
    }
   ],
   "source": [
    "print(apps[2:5])\n",
    "print(apps[1:10:2])\n",
    "print(apps[4:])\n",
    "print(apps[:9])\n",
    "print(apps[:])"
   ]
  },
  {
   "cell_type": "markdown",
   "metadata": {},
   "source": [
    "List mathods\n",
    "- append() : to add an element at the end of list\n",
    "- insert() : to add an element at any specific poition\n",
    "- pop(): to delete an item using the index position\n",
    "- remove(): to delete an item using it's name\n",
    "- sort(): to short the list in a particular order\n",
    "- copy(): to make a copy of the list\n",
    "- extend(): to combine to list into a one list\n",
    "- clear(): delet all element in the list but not the list"
   ]
  },
  {
   "cell_type": "code",
   "execution_count": 36,
   "metadata": {},
   "outputs": [
    {
     "name": "stdout",
     "output_type": "stream",
     "text": [
      "['bgmi', 'instagram', 'camara', 'youtube', 'pogo', 'phonepay', 'slice', 'ludo', 'hotstar', 'chrome', 'candycrush', 'setting', 'Zepto']\n"
     ]
    }
   ],
   "source": [
    "print(apps)"
   ]
  },
  {
   "cell_type": "code",
   "execution_count": 37,
   "metadata": {},
   "outputs": [
    {
     "name": "stdout",
     "output_type": "stream",
     "text": [
      "['bgmi', 'instagram', 'camara', 'youtube', 'pogo', 'phonepay', 'slice', 'ludo', 'hotstar', 'chrome', 'candycrush', 'setting', 'Zepto', 'whatsapp']\n"
     ]
    }
   ],
   "source": [
    "apps.append('whatsapp')\n",
    "print(apps)"
   ]
  },
  {
   "cell_type": "code",
   "execution_count": 38,
   "metadata": {},
   "outputs": [
    {
     "name": "stdout",
     "output_type": "stream",
     "text": [
      "['bgmi', 'instagram', 'camara', 'radio', 'youtube', 'pogo', 'phonepay', 'slice', 'ludo', 'hotstar', 'chrome', 'candycrush', 'setting', 'Zepto', 'whatsapp']\n"
     ]
    }
   ],
   "source": [
    "apps.insert(3,'radio')\n",
    "print(apps)"
   ]
  },
  {
   "cell_type": "code",
   "execution_count": 39,
   "metadata": {},
   "outputs": [
    {
     "name": "stdout",
     "output_type": "stream",
     "text": [
      "['bgmi', 'instagram', 'camara', 'youtube', 'pogo', 'phonepay', 'slice', 'ludo', 'hotstar', 'chrome', 'candycrush', 'setting', 'Zepto', 'whatsapp']\n"
     ]
    }
   ],
   "source": [
    "apps.pop(3)\n",
    "print(apps)"
   ]
  },
  {
   "cell_type": "code",
   "execution_count": 40,
   "metadata": {},
   "outputs": [
    {
     "name": "stdout",
     "output_type": "stream",
     "text": [
      "['bgmi', 'instagram', 'camara', 'youtube', 'pogo', 'phonepay', 'slice', 'ludo', 'hotstar', 'chrome', 'candycrush', 'setting', 'Zepto']\n"
     ]
    }
   ],
   "source": [
    "apps.remove('whatsapp')\n",
    "print(apps)"
   ]
  },
  {
   "cell_type": "code",
   "execution_count": 41,
   "metadata": {},
   "outputs": [
    {
     "name": "stdout",
     "output_type": "stream",
     "text": [
      "['Zepto', 'bgmi', 'camara', 'candycrush', 'chrome', 'hotstar', 'instagram', 'ludo', 'phonepay', 'pogo', 'setting', 'slice', 'youtube']\n"
     ]
    }
   ],
   "source": [
    "apps.sort()\n",
    "print(apps)"
   ]
  },
  {
   "cell_type": "code",
   "execution_count": 42,
   "metadata": {},
   "outputs": [
    {
     "name": "stdout",
     "output_type": "stream",
     "text": [
      "['Zepto', 'bgmi', 'camara', 'candycrush', 'chrome', 'hotstar', 'instagram', 'ludo', 'phonepay', 'pogo', 'setting', 'slice', 'youtube']\n"
     ]
    }
   ],
   "source": [
    "apps2 = apps.copy()\n",
    "print(apps2)"
   ]
  },
  {
   "cell_type": "code",
   "execution_count": 43,
   "metadata": {},
   "outputs": [
    {
     "name": "stdout",
     "output_type": "stream",
     "text": [
      "['Zepto', 'bgmi', 'camara', 'candycrush', 'chrome', 'hotstar', 'instagram', 'ludo', 'phonepay', 'pogo', 'setting', 'slice', 'youtube', 'Zepto', 'bgmi', 'camara', 'candycrush', 'chrome', 'hotstar', 'instagram', 'ludo', 'phonepay', 'pogo', 'setting', 'slice', 'youtube']\n"
     ]
    }
   ],
   "source": [
    "apps.extend(apps2)\n",
    "print(apps)"
   ]
  },
  {
   "cell_type": "code",
   "execution_count": 44,
   "metadata": {},
   "outputs": [],
   "source": [
    "apps2.clear()"
   ]
  },
  {
   "cell_type": "code",
   "execution_count": 45,
   "metadata": {},
   "outputs": [
    {
     "name": "stdout",
     "output_type": "stream",
     "text": [
      "[]\n"
     ]
    }
   ],
   "source": [
    "print(apps2)"
   ]
  },
  {
   "cell_type": "code",
   "execution_count": 46,
   "metadata": {},
   "outputs": [
    {
     "name": "stdout",
     "output_type": "stream",
     "text": [
      "[]\n"
     ]
    }
   ],
   "source": [
    "int = []\n",
    "print(int)"
   ]
  },
  {
   "cell_type": "code",
   "execution_count": 47,
   "metadata": {},
   "outputs": [
    {
     "name": "stdout",
     "output_type": "stream",
     "text": [
      "['1,2,3']\n"
     ]
    }
   ],
   "source": [
    "int.append('1,2,3')\n",
    "print(int)"
   ]
  },
  {
   "cell_type": "code",
   "execution_count": 48,
   "metadata": {},
   "outputs": [
    {
     "ename": "TypeError",
     "evalue": "unsupported operand type(s) for &: 'list' and 'list'",
     "output_type": "error",
     "traceback": [
      "\u001b[1;31m---------------------------------------------------------------------------\u001b[0m",
      "\u001b[1;31mTypeError\u001b[0m                                 Traceback (most recent call last)",
      "Cell \u001b[1;32mIn[48], line 1\u001b[0m\n\u001b[1;32m----> 1\u001b[0m \u001b[38;5;28mprint\u001b[39m(\u001b[43mapps\u001b[49m\u001b[38;5;241;43m&\u001b[39;49m\u001b[43mapps2\u001b[49m)\n",
      "\u001b[1;31mTypeError\u001b[0m: unsupported operand type(s) for &: 'list' and 'list'"
     ]
    }
   ],
   "source": [
    "print(apps&apps2)"
   ]
  },
  {
   "cell_type": "code",
   "execution_count": null,
   "metadata": {},
   "outputs": [],
   "source": []
  }
 ],
 "metadata": {
  "kernelspec": {
   "display_name": "base",
   "language": "python",
   "name": "python3"
  },
  "language_info": {
   "codemirror_mode": {
    "name": "ipython",
    "version": 3
   },
   "file_extension": ".py",
   "mimetype": "text/x-python",
   "name": "python",
   "nbconvert_exporter": "python",
   "pygments_lexer": "ipython3",
   "version": "3.12.3"
  },
  "orig_nbformat": 4
 },
 "nbformat": 4,
 "nbformat_minor": 2
}
