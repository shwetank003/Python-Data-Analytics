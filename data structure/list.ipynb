{
 "cells": [
  {
   "cell_type": "code",
   "execution_count": 2,
   "metadata": {},
   "outputs": [
    {
     "name": "stdout",
     "output_type": "stream",
     "text": [
      "['Instagram', 'Snapchat', 'Camera', 'Youtube', 'spotify', 'facebook', 'netflix', 'hotstar', 'chrome', 'telegram']\n"
     ]
    }
   ],
   "source": [
    "apps = ['Instagram', 'Snapchat', 'Camera', 'Youtube', 'spotify', 'facebook', 'netflix', 'hotstar', 'chrome', 'telegram']\n",
    "print(apps)"
   ]
  },
  {
   "cell_type": "markdown",
   "metadata": {},
   "source": [
    "INDEXING"
   ]
  },
  {
   "cell_type": "code",
   "execution_count": 11,
   "metadata": {},
   "outputs": [
    {
     "name": "stdout",
     "output_type": "stream",
     "text": [
      "netflix\n"
     ]
    }
   ],
   "source": [
    "apps = ['Instagram', 'Snapchat', 'Camera', 'Youtube', 'spotify', 'facebook', 'netflix', 'hotstar', 'chrome', 'telegram']\n",
    "print(apps[-4])"
   ]
  },
  {
   "cell_type": "code",
   "execution_count": null,
   "metadata": {},
   "outputs": [],
   "source": []
  }
 ],
 "metadata": {
  "interpreter": {
   "hash": "f078e8e0328d498e9489b389f56c299d76b4345dcbd2991da58a939b9c386e81"
  },
  "kernelspec": {
   "display_name": "Python 3.12.3 ('base')",
   "language": "python",
   "name": "python3"
  },
  "language_info": {
   "codemirror_mode": {
    "name": "ipython",
    "version": 3
   },
   "file_extension": ".py",
   "mimetype": "text/x-python",
   "name": "python",
   "nbconvert_exporter": "python",
   "pygments_lexer": "ipython3",
   "version": "3.12.3"
  },
  "orig_nbformat": 4
 },
 "nbformat": 4,
 "nbformat_minor": 2
}
