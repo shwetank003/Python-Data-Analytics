{
 "cells": [
  {
   "cell_type": "code",
   "execution_count": 1,
   "metadata": {},
   "outputs": [
    {
     "name": "stdout",
     "output_type": "stream",
     "text": [
      "[23, 67, 'apple', 'banana', True, 'banana', 45, 3]\n"
     ]
    }
   ],
   "source": [
    "#list of item\n",
    "items = [23,67,'apple','banana',True,'banana',45,3]\n",
    "print(items)"
   ]
  },
  {
   "cell_type": "code",
   "execution_count": 2,
   "metadata": {},
   "outputs": [
    {
     "name": "stdout",
     "output_type": "stream",
     "text": [
      "(23, 67, 'apple', 'banana', True, 45, 3)\n"
     ]
    }
   ],
   "source": [
    "#Tuple of item\n",
    "items = (23,67,'apple','banana',True,45,3)\n",
    "print(items)"
   ]
  },
  {
   "cell_type": "code",
   "execution_count": 3,
   "metadata": {},
   "outputs": [
    {
     "name": "stdout",
     "output_type": "stream",
     "text": [
      "{True, 67, 'apple', 23, 45.3, 'banana'}\n"
     ]
    }
   ],
   "source": [
    "#Set of item\n",
    "items = {23,67,'banana','apple',True,45.3,'banana'}\n",
    "print(items)"
   ]
  },
  {
   "cell_type": "code",
   "execution_count": 4,
   "metadata": {},
   "outputs": [
    {
     "name": "stdout",
     "output_type": "stream",
     "text": [
      "{'name': 'Sam', 'age': 23, 'gnder': 'male', 'address': '123 main st'}\n"
     ]
    }
   ],
   "source": [
    "#Dictionary \n",
    "student = {\n",
    "    \"name\" : \"Sam\",\n",
    "    \"age\" : 23,\n",
    "    \"gnder\" : \"male\",\n",
    "    \"address\" : \"123 main st\",\n",
    "}\n",
    "print(student)\n",
    "    "
   ]
  },
  {
   "cell_type": "code",
   "execution_count": 5,
   "metadata": {},
   "outputs": [
    {
     "data": {
      "text/plain": [
       "float"
      ]
     },
     "execution_count": 5,
     "metadata": {},
     "output_type": "execute_result"
    }
   ],
   "source": [
    "a = 2356.76656\n",
    "type(a)"
   ]
  },
  {
   "cell_type": "code",
   "execution_count": 6,
   "metadata": {},
   "outputs": [
    {
     "name": "stdout",
     "output_type": "stream",
     "text": [
      "hello\n"
     ]
    }
   ],
   "source": [
    "a = \"hello\"\n",
    "print(a)"
   ]
  },
  {
   "cell_type": "code",
   "execution_count": 1,
   "metadata": {},
   "outputs": [
    {
     "name": "stdout",
     "output_type": "stream",
     "text": [
      "123456\n"
     ]
    }
   ],
   "source": [
    "a = input(\"Enter a number\")\n",
    "print(a)"
   ]
  },
  {
   "cell_type": "code",
   "execution_count": 2,
   "metadata": {},
   "outputs": [
    {
     "name": "stdout",
     "output_type": "stream",
     "text": [
      "twinkle twinkle little star\n",
      "how i wonder what u r\n",
      "up above the world to high\n",
      "like a diamond in the sky\n"
     ]
    }
   ],
   "source": [
    "poem = '''twinkle twinkle little star\n",
    "how i wonder what u r\n",
    "up above the world to high\n",
    "like a diamond in the sky'''\n",
    "print(poem)"
   ]
  },
  {
   "cell_type": "code",
   "execution_count": 4,
   "metadata": {},
   "outputs": [
    {
     "name": "stdout",
     "output_type": "stream",
     "text": [
      "shwetank\n",
      "akshay\n",
      "sameer\n",
      "karan\n",
      "arjun\n"
     ]
    }
   ],
   "source": [
    "name = '''shwetank\n",
    "akshay\n",
    "sameer\n",
    "karan\n",
    "arjun'''\n",
    "print(name)"
   ]
  },
  {
   "cell_type": "code",
   "execution_count": null,
   "metadata": {},
   "outputs": [],
   "source": []
  }
 ],
 "metadata": {
  "interpreter": {
   "hash": "f078e8e0328d498e9489b389f56c299d76b4345dcbd2991da58a939b9c386e81"
  },
  "kernelspec": {
   "display_name": "Python 3.12.3 ('base')",
   "language": "python",
   "name": "python3"
  },
  "language_info": {
   "codemirror_mode": {
    "name": "ipython",
    "version": 3
   },
   "file_extension": ".py",
   "mimetype": "text/x-python",
   "name": "python",
   "nbconvert_exporter": "python",
   "pygments_lexer": "ipython3",
   "version": "3.12.3"
  },
  "orig_nbformat": 4
 },
 "nbformat": 4,
 "nbformat_minor": 2
}
